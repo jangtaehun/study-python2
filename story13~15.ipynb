{
 "cells": [
  {
   "cell_type": "code",
   "execution_count": null,
   "metadata": {},
   "outputs": [],
   "source": [
    "d1 = {'a': 1, 'b': 2, 'c': 3}\n",
    "d2 = dict([('a',1), ('b',2), ('c', 3)])\n",
    "d3 = dict(a = 1, b = 2, c = 3)\n",
    "d4 = dict(zip(['a', 'b', 'c'], [1, 2, 3]))\n",
    "d1 == d2 == d3 == d4"
   ]
  },
  {
   "cell_type": "code",
   "execution_count": null,
   "metadata": {},
   "outputs": [],
   "source": [
    "z = zip(['a', 'b', 'c'], [1, 2, 3]) # 두 개의 리스트에 저장된 값들을 조합\n",
    "for i in z:\n",
    "    print(i, end=', ')\n",
    "print()\n",
    "\n",
    "z = zip(('a', 'b', 'c'), (1, 2, 3)) # 두 개의 튜플에 저장된 값들을 조합\n",
    "for i in z:\n",
    "    print(i, end=', ')\n",
    "print()\n",
    "\n",
    "z = zip('abc', (1, 2, 3)) # 문자열과 튜플에 저장된 값들을 조합\n",
    "for i in z:\n",
    "    print(i, end=', ')\n",
    "print('\\n')\n",
    "\n",
    "d = list(zip(['a', 'b', 'c'], [1, 2, 3])) # zip과 list의 조합\n",
    "print(d, '\\n')\n",
    "\n",
    "t = tuple(zip('abc', '123')) #zip과 tuple의 조합\n",
    "print(t, '\\n')\n",
    "\n",
    "d = dict(zip(['a', 'b', 'c'], (1, 2, 3)))\n",
    "print(d, '\\n')\n",
    "\n",
    "c = list(zip('abc', (1, 2, 3), ['one', 'two', 'three']))\n",
    "print(c)"
   ]
  },
  {
   "cell_type": "code",
   "execution_count": null,
   "metadata": {},
   "outputs": [],
   "source": [
    "d = dict(a = 1, b = 2, c = 3)\n",
    "for k in d: # key가 담긴다\n",
    "    print(d[k], end=\", \")\n",
    "print('\\n')\n",
    "\n",
    "# key만 참고\n",
    "d = dict(a = 1, b = 2, c = 3)\n",
    "for k in d.keys():\n",
    "    print(k, end=\", \")\n",
    "print('\\n')\n",
    "\n",
    "# value만 참고\n",
    "d = dict(a = 1, b = 2, c = 3)\n",
    "for k in d.values():\n",
    "    print(k, end=\", \")\n",
    "print('\\n')\n",
    "\n",
    "# key, value을 튜플 형태로 참조\n",
    "d = dict(a = 1, b = 2, c = 3)\n",
    "for k in d.items():\n",
    "    print(k, end=\", \")\n",
    "print('\\n')\n",
    "\n",
    "d = dict(a = 1, b = 2, c = 3)\n",
    "for k, v in d.items():\n",
    "    print(k, v, end=\", \")\n",
    "print('\\n')\n",
    "\n",
    "ks = ['a', 'b', 'c', 'd']\n",
    "vs = [1, 2, 3, 4]\n",
    "d = {k: v for k, v in zip(ks, vs)}\n",
    "print(d)\n",
    "\n",
    "ks = ['a', 'b', 'c', 'd']\n",
    "vs = [1, 2, 3, 4]\n",
    "d = {k: v for k, v in zip(ks, vs) if v % 2}\n",
    "d"
   ]
  },
  {
   "cell_type": "markdown",
   "metadata": {},
   "source": [
    "#### func(*iterable): 리스트, 튜플, 문자열을 풀어서 전달\n",
    "#### func(**iterable): 딕셔너리의 값을 풀어서 전달\n",
    "> - *: 키가 매개변수에 전달\n",
    "> - **: 값이 매개변수에 전달"
   ]
  },
  {
   "cell_type": "code",
   "execution_count": 21,
   "metadata": {},
   "outputs": [
    {
     "name": "stdout",
     "output_type": "stream",
     "text": [
      "()\n",
      "{}\n",
      "(1,)\n",
      "{'a': 1}\n",
      "(1, 2)\n",
      "{'a': 1, 'b': 2}\n"
     ]
    }
   ],
   "source": [
    "def func(*args1, **args2):\n",
    "    print(args1)\n",
    "    print(args2)\n",
    "    \n",
    "func()\n",
    "\n",
    "func(1, a=1)\n",
    "\n",
    "func(1, 2, a=1, b=2)"
   ]
  }
 ],
 "metadata": {
  "kernelspec": {
   "display_name": "Python 3",
   "language": "python",
   "name": "python3"
  },
  "language_info": {
   "codemirror_mode": {
    "name": "ipython",
    "version": 3
   },
   "file_extension": ".py",
   "mimetype": "text/x-python",
   "name": "python",
   "nbconvert_exporter": "python",
   "pygments_lexer": "ipython3",
   "version": "3.11.7"
  }
 },
 "nbformat": 4,
 "nbformat_minor": 2
}
