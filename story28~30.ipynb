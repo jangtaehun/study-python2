{
 "cells": [
  {
   "cell_type": "markdown",
   "metadata": {},
   "source": [
    "##### 정보은닉과 __dict__\n",
    "> - 변수 이름 앞에 언더바를 두 개 이어서 붙여주면 +=, -=와 같은 연산이 불가능 해진다.\n",
    "> - 언더바가 2개 -> 이름을 바꾼다 : __AttrName -> _ClassName__AttrName ex) __name -> _Person__name\n",
    "\n",
    "##### __dict__\n",
    "> - 객체 내에는 해당 객체의 변수 정보를 담고 있는 딕셔너리가 하나 존재한다.\n",
    "> - 객체에 변수가 추가되면(바뀌면) __dict__에도 그 정보가 반영된다.\n",
    "> - 객체 내에 있는 변수의 값은 __dict__를 통해서 관리된다."
   ]
  },
  {
   "cell_type": "code",
   "execution_count": 21,
   "metadata": {},
   "outputs": [
    {
     "name": "stdout",
     "output_type": "stream",
     "text": [
      "{'_name': 'James', '_age': 22, '_Person__db': 300}\n",
      "{'_name': 'James', '_age': 22, '_Person__db': 300, 'len': 178, 'adr': 'korea', 'db': 1000000}\n",
      "{'_name': 'ddeock', '_age': 122, '_Person__db': 300, 'len': 178, 'adr': 'korea', 'db': 1000000, '__db': 50}\n"
     ]
    }
   ],
   "source": [
    "class Person:\n",
    "    def __init__(self, n, a, d):\n",
    "        self._name = n\n",
    "        self._age = a\n",
    "        self.__db = d\n",
    "    \n",
    "def main():\n",
    "    # p.age = 2 오류\n",
    "    p = Person('James', 22, 300)\n",
    "    print(p.__dict__)\n",
    "    \n",
    "    p.len = 178\n",
    "    p.adr = 'korea'\n",
    "    p.db = 1000000\n",
    "    print(p.__dict__)\n",
    "    \n",
    "    p.__dict__['_name'] = 'ddeock'\n",
    "    p.__dict__['_age'] += 100 # == p._n += 100\n",
    "    p.__dict__['__db'] = 40 # +=와 같은 연산 불가\n",
    "    p.__db = 50\n",
    "    print(p.__dict__)\n",
    "    \n",
    "main()"
   ]
  },
  {
   "cell_type": "markdown",
   "metadata": {},
   "source": [
    "##### 딕셔너리는 리스트나 튜플보다 메모리 사용량이 많다. -> 키를 이용해 값을 찾기 때문에 더 많은 정보를 유지\n",
    "\n",
    "##### __slot__\n",
    "> - 변수 제한\n",
    "> - 딕셔너리를 거치지 않고 바로 접근이 이뤄진다"
   ]
  },
  {
   "cell_type": "markdown",
   "metadata": {},
   "source": [
    "##### 프로퍼티\n",
    "> - 객체가 갖는 값에 직접 접근하는 것은 오류의 확률을 높인다. -> 메소드를 통해 접근하는 것이 안전\n",
    "> - 잦은 메소드 호출은 코드를 복잡하게 만든다\n",
    "\n",
    "> - 데코레이터를 이용해 프로퍼티 지정할 수 있다."
   ]
  },
  {
   "cell_type": "code",
   "execution_count": 23,
   "metadata": {},
   "outputs": [
    {
     "name": "stdout",
     "output_type": "stream",
     "text": [
      "5\n"
     ]
    }
   ],
   "source": [
    "# 프로퍼티 설정을 안 하면 오류\n",
    "class Natural:\n",
    "    def __init__(self, n):\n",
    "        self.setn(n) # 아래에 있는 setn 메소드 호출\n",
    "        \n",
    "    def getn(self):\n",
    "        return self.__n\n",
    "        \n",
    "    def setn(self, n):\n",
    "        if n < 1:\n",
    "            self.__n = 1\n",
    "        else:\n",
    "            self.__n = n\n",
    "    \n",
    "    n = property(getn, setn) # 프로퍼티 설정\n",
    "    \n",
    "\n",
    "def main():\n",
    "    n1 = Natural(1)\n",
    "    n2 = Natural(2)\n",
    "    n3 = Natural(3)\n",
    "    n1.n = n2.n + n3.n\n",
    "    print(n1.n)\n",
    "    \n",
    "main()\n",
    "    "
   ]
  },
  {
   "cell_type": "code",
   "execution_count": 27,
   "metadata": {},
   "outputs": [
    {
     "name": "stdout",
     "output_type": "stream",
     "text": [
      "5\n"
     ]
    }
   ],
   "source": [
    "class Natural:\n",
    "    def __init__(self, n):\n",
    "        self.setn(n) # 아래에 있는 setn 메소드 호출\n",
    "        \n",
    "    n = property() # property 객체 생성\n",
    "    \n",
    "    def getn(self):\n",
    "        return self.__n\n",
    "    n = n.getter(getn) # getn 메소드를 게터로 등록\n",
    "    \n",
    "    def setn(self, n):\n",
    "        if n < 1:\n",
    "            self.__n = 1\n",
    "        else:\n",
    "            self.__n = n\n",
    "    n = n.setter(setn) # setn 메소드를 세터로 등록\n",
    "    \n",
    "    # n = property(getn, setn) # 프로퍼티 설정\n",
    "    \n",
    "\n",
    "def main():\n",
    "    n1 = Natural(1)\n",
    "    n2 = Natural(2)\n",
    "    n3 = Natural(3)\n",
    "    n1.n = n2.n + n3.n\n",
    "    print(n1.n)\n",
    "    \n",
    "main()\n",
    "\n",
    "# 메소드의 이름을 동일하게 두어도 상관 없다."
   ]
  }
 ],
 "metadata": {
  "kernelspec": {
   "display_name": "Python 3",
   "language": "python",
   "name": "python3"
  },
  "language_info": {
   "codemirror_mode": {
    "name": "ipython",
    "version": 3
   },
   "file_extension": ".py",
   "mimetype": "text/x-python",
   "name": "python",
   "nbconvert_exporter": "python",
   "pygments_lexer": "ipython3",
   "version": "3.11.6"
  }
 },
 "nbformat": 4,
 "nbformat_minor": 2
}
