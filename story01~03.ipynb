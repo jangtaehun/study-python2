{
 "cells": [
  {
   "cell_type": "code",
   "execution_count": null,
   "metadata": {},
   "outputs": [],
   "source": [
    "# 레퍼런스 카운트와 가비지 컬렉션\n",
    "\n",
    "# 파이썬에서 변수는 떼었다 붙였다 할 수 있는 포스트잇의 개념이다.\n",
    "# 참조 = 레퍼런스\n",
    "\n",
    "# 가비지 컬렉션 = 소멸 대상으로 등록만 해 두고 시스템에 시간적인 여유가 생길 때 소멸시키는 일련의 소멸 규칙 및 과정을 말한다\n",
    "# 레퍼런스 카운트 = 객체를 참조하는 변수의 수, 레퍼런스 카운트 = -> 소멸 대상\n",
    "r1 = [1, 2, 3]  # 리스트 [1, 2, 3]의 레퍼런스 카운트 1\n",
    "r2 = r1  # 리스트의 레퍼런스 카운트 2로 증가\n",
    "r1 = \"simple\"  # 리스트의 레퍼런스 카운트 1로 감소\n",
    "r2 = \"happy\"  # 리스트의 레퍼런스 카운트 0 -> 가비지 컬렉션 대상\n",
    "\n",
    "# 가비지 컬렉션 누가 진행?\n",
    "\n",
    "# 파이썬 코드 실행 -> 바이트 코드로 변환되어 어딘가에 저장된다.\n",
    "# 바이트 코드는 파이썬 가상 머신(PVM) 위에서 실행된다.\n",
    "# PVM에 의해 가비지 컬렉션 진행된다.\n",
    "\n",
    "# 파이썬 코드 변환기와 가상 머신, 기본적인 라이브러리 등을 파이썬 인터프리터\n",
    "# 인터프리터 -> C언어로 구현: CPython, Java로 구현: Jython ...\n"
   ]
  },
  {
   "cell_type": "markdown",
   "metadata": {},
   "source": [
    "##### immutable, mutable\n",
    "\n",
    "> - immutable: 객체가 지는 값의 수정이 불가능하다. -> 튜플, 문자열\n",
    "> - mutable: 객체가 지닌 값의 수정이 가능 -> 리스트, 딕셔너리"
   ]
  },
  {
   "cell_type": "code",
   "execution_count": 2,
   "metadata": {},
   "outputs": [
    {
     "name": "stdout",
     "output_type": "stream",
     "text": [
      "4409013248\n",
      "4409013248\n"
     ]
    },
    {
     "data": {
      "text/plain": [
       "[1, 2, 3, 4]"
      ]
     },
     "execution_count": 2,
     "metadata": {},
     "output_type": "execute_result"
    }
   ],
   "source": [
    "t = [1, 2]\n",
    "print(id(t))\n",
    "\n",
    "t += [3, 4]\n",
    "print(id(t))\n",
    "\n",
    "t"
   ]
  },
  {
   "cell_type": "code",
   "execution_count": 3,
   "metadata": {},
   "outputs": [
    {
     "name": "stdout",
     "output_type": "stream",
     "text": [
      "4409000576\n",
      "4402623360\n"
     ]
    },
    {
     "data": {
      "text/plain": [
       "(1, 2, 3, 4)"
      ]
     },
     "execution_count": 3,
     "metadata": {},
     "output_type": "execute_result"
    }
   ],
   "source": [
    "t = (1, 2)\n",
    "print(id(t))\n",
    "\n",
    "t += (3, 4) # 새롭게 만들어 진다.\n",
    "print(id(t))\n",
    "\n",
    "t"
   ]
  },
  {
   "cell_type": "markdown",
   "metadata": {},
   "source": [
    "##### 깊은 복사와 얕은 복사"
   ]
  },
  {
   "cell_type": "code",
   "execution_count": 5,
   "metadata": {},
   "outputs": [
    {
     "name": "stdout",
     "output_type": "stream",
     "text": [
      "False\n",
      "False\n",
      "True\n",
      "['John', ('man', 'usa'), [175, 24]]\n",
      "['John', ('man', 'usa'), [175, 24]]\n"
     ]
    }
   ],
   "source": [
    "# 얕은 복사 -> 파이썬이 복사를 진행하는 기본 방식\n",
    "r1 = [1,2,3]\n",
    "r2 = [1,2,3]\n",
    "\n",
    "print(r1 is r2)\n",
    "\n",
    "r3 = list(r1) # r1의 내용으로 새로운 리스트를 만든다.\n",
    "\n",
    "print(r1 is r3)\n",
    "\n",
    "print(r1[0] is r2[0])\n",
    "# 리스트 안에 선언되는 값들이 리스트에 들어가 있는 형태가 아니라 각 값들을(객체들을) 리스트 내에서 참조하는 형태 \n",
    "\n",
    "j2021 = ['John', ('man', 'usa'), [175, 23]]\n",
    "j2022 = list(j2021)\n",
    "\n",
    "j2022[2][1] += 1\n",
    "print(j2021)\n",
    "print(j2022)\n",
    "# immutable 객체는 얕은 복사를 해도 문제가 되지 않지만 mutable 객체는 수정할 수 있어 문제가 될 수 있다."
   ]
  },
  {
   "cell_type": "code",
   "execution_count": 10,
   "metadata": {},
   "outputs": [
    {
     "name": "stdout",
     "output_type": "stream",
     "text": [
      "['John', ('man', 'usa'), [175, 23]]\n",
      "['John', ('man', 'usa'), [175, 24]]\n",
      "True\n",
      "False\n",
      "True\n",
      "True\n"
     ]
    }
   ],
   "source": [
    "# 깊은 복사\n",
    "# copy 모듈의 deepcopy \n",
    "import copy\n",
    "\n",
    "j2021 = ['John', ('man', 'usa'), [175, 23]]\n",
    "j2022 = copy.deepcopy(j2021)\n",
    "\n",
    "j2022[2][1] += 1\n",
    "print(j2021)\n",
    "print(j2022)\n",
    "\n",
    "print(j2021[0] is j2022[0]) # immutable 얕은 복사\n",
    "print(j2021[2] is j2022[2]) # mutable 갚은 복사\n",
    "\n",
    "# tuple, list => 얕은 복사\n",
    "\n",
    "d1 = (1, 2, 3)\n",
    "d2 = 'please'\n",
    "\n",
    "c1 = tuple(d1)\n",
    "c2 = str(d2)\n",
    "\n",
    "print(d1 is c1)\n",
    "print(d2 is c2)\n"
   ]
  }
 ],
 "metadata": {
  "kernelspec": {
   "display_name": "Python 3",
   "language": "python",
   "name": "python3"
  },
  "language_info": {
   "codemirror_mode": {
    "name": "ipython",
    "version": 3
   },
   "file_extension": ".py",
   "mimetype": "text/x-python",
   "name": "python",
   "nbconvert_exporter": "python",
   "pygments_lexer": "ipython3",
   "version": "3.11.7"
  }
 },
 "nbformat": 4,
 "nbformat_minor": 2
}
