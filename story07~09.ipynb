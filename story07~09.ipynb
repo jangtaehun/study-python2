{
 "cells": [
  {
   "cell_type": "markdown",
   "metadata": {},
   "source": [
    "##### map\n",
    "> - 객체를 반환 => iterator 객체\n",
    "> - map(함수, 매개변수1, 매개변수2, ...)"
   ]
  },
  {
   "cell_type": "code",
   "execution_count": 1,
   "metadata": {},
   "outputs": [
    {
     "data": {
      "text/plain": [
       "[1, 4, 9]"
      ]
     },
     "execution_count": 1,
     "metadata": {},
     "output_type": "execute_result"
    }
   ],
   "source": [
    "def pow(n):\n",
    "    return n ** 2\n",
    "\n",
    "st1 = [1, 2, 3]\n",
    "st2 = [pow(st1[0]), pow(st1[1]), pow(st1[2])]\n",
    "print(st2)\n",
    "\n",
    "st3 = list(map(pow, st1))\n",
    "st3"
   ]
  },
  {
   "cell_type": "code",
   "execution_count": 3,
   "metadata": {},
   "outputs": [
    {
     "data": {
      "text/plain": [
       "['eno', 'owt', 'eerht']"
      ]
     },
     "execution_count": 3,
     "metadata": {},
     "output_type": "execute_result"
    }
   ],
   "source": [
    "def rev(s):\n",
    "    return s[: : -1]\n",
    "\n",
    "st = ['one', 'two', 'three']\n",
    "rst = list(map(rev, st))\n",
    "rst"
   ]
  },
  {
   "cell_type": "code",
   "execution_count": 4,
   "metadata": {},
   "outputs": [
    {
     "data": {
      "text/plain": [
       "['eno', 'owt', 'eerht']"
      ]
     },
     "execution_count": 4,
     "metadata": {},
     "output_type": "execute_result"
    }
   ],
   "source": [
    "st = ['one', 'two', 'three']\n",
    "rst = list(map(lambda s: s[::-1], st))\n",
    "rst\n",
    "\n",
    "# st에서 값을 꺼내서 s에 전달 -> s[::-1]에 전달"
   ]
  },
  {
   "cell_type": "markdown",
   "metadata": {},
   "source": [
    "##### filter\n",
    "> - 함수를 인자로 전달받으며, 값을 걸러내는 기준이 된다."
   ]
  },
  {
   "cell_type": "code",
   "execution_count": 5,
   "metadata": {},
   "outputs": [
    {
     "data": {
      "text/plain": [
       "[1, 3, 5]"
      ]
     },
     "execution_count": 5,
     "metadata": {},
     "output_type": "execute_result"
    }
   ],
   "source": [
    "def is_odd(n):\n",
    "    return n % 2\n",
    "\n",
    "st = [1,2,3,4,5]\n",
    "ost = list(filter(is_odd, st))\n",
    "ost\n",
    "\n",
    "# filter는 st에 저장된 값들을 하나씩 꺼내서 is_odd에 전달"
   ]
  },
  {
   "cell_type": "code",
   "execution_count": 6,
   "metadata": {},
   "outputs": [
    {
     "data": {
      "text/plain": [
       "[3, 6, 9]"
      ]
     },
     "execution_count": 6,
     "metadata": {},
     "output_type": "execute_result"
    }
   ],
   "source": [
    "st = list(range(1, 11))\n",
    "fst = list(filter(lambda s: not(s%3), st))\n",
    "fst\n",
    "\n",
    "# st에서 값을 꺼내서 s에 전달 -> not(s%3)에 전달"
   ]
  },
  {
   "cell_type": "code",
   "execution_count": 7,
   "metadata": {},
   "outputs": [
    {
     "data": {
      "text/plain": [
       "[9, 36, 81]"
      ]
     },
     "execution_count": 7,
     "metadata": {},
     "output_type": "execute_result"
    }
   ],
   "source": [
    "st = list(range(1, 11))\n",
    "fst = list( filter( lambda n: not(n%3), map(lambda n: n**2, st ) ) )\n",
    "\n",
    "# map(함수, 매개변수1, 매개변수2, ...)\n",
    "# map 함수를 통해 st에서 값을 꺼내 lambda n: n**2에 전달 -> 제곱된 값을 반환 => filter( lambda n: not(n%3), 제곱된 값)\n",
    "\n",
    "# filter(함수, list/tuple...)\n",
    "# filter가 제곱된 값을 꺼내 lambda n: not(n%3)에 전달 3의 배수인 값만 반횐\n",
    "\n",
    "fst"
   ]
  },
  {
   "cell_type": "code",
   "execution_count": 8,
   "metadata": {},
   "outputs": [
    {
     "data": {
      "text/plain": [
       "([1, 4, 9], [1, 4, 9])"
      ]
     },
     "execution_count": 8,
     "metadata": {},
     "output_type": "execute_result"
    }
   ],
   "source": [
    "st1 = [1,2,3]\n",
    "st2 = list(map(lambda n: n**2, st1))\n",
    "st3 = [i**2 for i in st1]\n",
    "\n",
    "st2, st3"
   ]
  },
  {
   "cell_type": "code",
   "execution_count": 12,
   "metadata": {},
   "outputs": [
    {
     "data": {
      "text/plain": [
       "([1, 3, 5], [1, 3, 5])"
      ]
     },
     "execution_count": 12,
     "metadata": {},
     "output_type": "execute_result"
    }
   ],
   "source": [
    "st = [1,2,3,4,5]\n",
    "ost1 = list( filter(lambda n: n%2, st) )\n",
    "\n",
    "ost2 = [i for i in st if i%2]\n",
    "\n",
    "ost1, ost2"
   ]
  },
  {
   "cell_type": "markdown",
   "metadata": {},
   "source": [
    "##### 제너레이터 함수\n",
    "> - iterator 객체의 한 종류\n",
    "\n",
    "> - 제너레이터 함수 = 제너레이터를 만들기 위한 함수 정의\n",
    "> - 제너레이터 표현식 = 제너레이터를 만들기 위한 식\n",
    "\n",
    "> - 함수에 yield가 포함되어 있으면 제너레이터 함수\n",
    "> - - next() 이용\n",
    "> - 마지막 yield가 실행되었으면 StopIteration 예외가 발생\n",
    "\n",
    "> - 함수 호출 이후에 그 실행의 흐름을 next 함수가 호출될 때까지 미루는 특성을 lazy evaluation \n",
    "\n",
    "##### 리스트의 길이에 상관없이 사용하는 메모리 공간의 크기가 동일 -> 제네레이터 객체는 반환할 값들을 미리 만들어서 저장해 두지 않는다.\n",
    " > - 리스트는 메모리 공간의 크기가 리스트의 길이에 비례해서 늘어난다.\n",
    "> - 값들을 순서대로 하나씩 가져다 쓰는 상황에서는 제네레이터 함수 사용이 합리적"
   ]
  },
  {
   "cell_type": "code",
   "execution_count": 19,
   "metadata": {},
   "outputs": [
    {
     "data": {
      "text/plain": [
       "generator"
      ]
     },
     "execution_count": 19,
     "metadata": {},
     "output_type": "execute_result"
    }
   ],
   "source": [
    "def gen():\n",
    "    print('first')\n",
    "    yield 1 # yield가 하나라도 들어가면 제너레이터가 된다.\n",
    "    print('second')\n",
    "    yield 2\n",
    "    print('third')\n",
    "    yield 3\n",
    "    \n",
    "gen = gen()\n",
    "type(gen)"
   ]
  },
  {
   "cell_type": "code",
   "execution_count": 20,
   "metadata": {},
   "outputs": [
    {
     "name": "stdout",
     "output_type": "stream",
     "text": [
      "first\n"
     ]
    },
    {
     "data": {
      "text/plain": [
       "1"
      ]
     },
     "execution_count": 20,
     "metadata": {},
     "output_type": "execute_result"
    }
   ],
   "source": [
    "next(gen)"
   ]
  },
  {
   "cell_type": "code",
   "execution_count": 21,
   "metadata": {},
   "outputs": [
    {
     "name": "stdout",
     "output_type": "stream",
     "text": [
      "second\n"
     ]
    },
    {
     "data": {
      "text/plain": [
       "2"
      ]
     },
     "execution_count": 21,
     "metadata": {},
     "output_type": "execute_result"
    }
   ],
   "source": [
    "next(gen)"
   ]
  },
  {
   "cell_type": "code",
   "execution_count": 23,
   "metadata": {},
   "outputs": [
    {
     "data": {
      "text/plain": [
       "1"
      ]
     },
     "execution_count": 23,
     "metadata": {},
     "output_type": "execute_result"
    }
   ],
   "source": [
    "def gen():\n",
    "    for i in [1, 2, 3]:\n",
    "        yield i\n",
    "        \n",
    "g = gen()\n",
    "next(g)"
   ]
  },
  {
   "cell_type": "code",
   "execution_count": 24,
   "metadata": {},
   "outputs": [
    {
     "data": {
      "text/plain": [
       "2"
      ]
     },
     "execution_count": 24,
     "metadata": {},
     "output_type": "execute_result"
    }
   ],
   "source": [
    "next(g)"
   ]
  },
  {
   "cell_type": "code",
   "execution_count": 26,
   "metadata": {},
   "outputs": [
    {
     "name": "stdout",
     "output_type": "stream",
     "text": [
      "1 2 3 4 5 6 7 8 9 "
     ]
    }
   ],
   "source": [
    "def gen(s):\n",
    "    for i in s:\n",
    "        yield i\n",
    "        \n",
    "st = gen([1,2,3,4,5,6,7,8,9])\n",
    "for i in st:\n",
    "    print(i, end=' ')"
   ]
  },
  {
   "cell_type": "code",
   "execution_count": null,
   "metadata": {},
   "outputs": [],
   "source": [
    "def gen():\n",
    "    s = [0, 1, 0, 1, 0, 1]\n",
    "    for i in s:\n",
    "        yield i\n",
    "        \n",
    "def gen():\n",
    "    s = [0, 1, 0, 1, 0, 1]\n",
    "    yield from s"
   ]
  }
 ],
 "metadata": {
  "kernelspec": {
   "display_name": "Python 3",
   "language": "python",
   "name": "python3"
  },
  "language_info": {
   "codemirror_mode": {
    "name": "ipython",
    "version": 3
   },
   "file_extension": ".py",
   "mimetype": "text/x-python",
   "name": "python",
   "nbconvert_exporter": "python",
   "pygments_lexer": "ipython3",
   "version": "3.11.7"
  }
 },
 "nbformat": 4,
 "nbformat_minor": 2
}
