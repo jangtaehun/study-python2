{
 "cells": [
  {
   "cell_type": "markdown",
   "metadata": {},
   "source": [
    "##### 제네레이터 표현식"
   ]
  },
  {
   "cell_type": "code",
   "execution_count": 1,
   "metadata": {},
   "outputs": [
    {
     "name": "stdout",
     "output_type": "stream",
     "text": [
      "2 4 6 8 10 12 14 16 18 "
     ]
    }
   ],
   "source": [
    "def show(s):\n",
    "    for i in s:\n",
    "        print(i, end=' ')\n",
    "    \n",
    "g = (2 * i for i in range(1, 10))\n",
    "show(g)"
   ]
  },
  {
   "cell_type": "code",
   "execution_count": 2,
   "metadata": {},
   "outputs": [
    {
     "name": "stdout",
     "output_type": "stream",
     "text": [
      "2 4 6 8 10 12 14 16 18 "
     ]
    }
   ],
   "source": [
    "show((2*i for i in range(1, 10)))"
   ]
  },
  {
   "cell_type": "markdown",
   "metadata": {},
   "source": [
    "#### 튜플 패킹\n",
    "> - 튜플로 값을 묶는 행위\n",
    "\n",
    "#### 튜플 언패킹\n",
    "> - 튜플로 묶여 있는 값들을 풀어내는 행위\n",
    "\n",
    "#### 함수의 호출과 반환 과정에서도 일어난다.\n",
    "> - 튜플의 패킹에서 소괄호는 생략이 가능"
   ]
  },
  {
   "cell_type": "code",
   "execution_count": 3,
   "metadata": {},
   "outputs": [
    {
     "name": "stdout",
     "output_type": "stream",
     "text": [
      "12 25\n"
     ]
    }
   ],
   "source": [
    "tri_two = 23, 12\n",
    "\n",
    "tri_three = (12, 25)\n",
    "bt, ht = tri_three\n",
    "print(bt, ht)"
   ]
  },
  {
   "cell_type": "code",
   "execution_count": 5,
   "metadata": {},
   "outputs": [
    {
     "data": {
      "text/plain": [
       "(1, [3, 4, 5])"
      ]
     },
     "execution_count": 5,
     "metadata": {},
     "output_type": "execute_result"
    }
   ],
   "source": [
    "nums = (1, 2, 3, 4, 5)\n",
    "n1, n2, *others = nums\n",
    "n1, others"
   ]
  },
  {
   "cell_type": "code",
   "execution_count": 6,
   "metadata": {},
   "outputs": [
    {
     "data": {
      "text/plain": [
       "[2, 3, 4]"
      ]
     },
     "execution_count": 6,
     "metadata": {},
     "output_type": "execute_result"
    }
   ],
   "source": [
    "nums = (1, 2, 3, 4, 5)\n",
    "n1, *others, n2 = nums\n",
    "others"
   ]
  },
  {
   "cell_type": "code",
   "execution_count": 10,
   "metadata": {},
   "outputs": [
    {
     "name": "stdout",
     "output_type": "stream",
     "text": [
      "jang, 22, 180\n",
      "jang, 22, 180\n",
      "jang 173\n"
     ]
    }
   ],
   "source": [
    "def show(name, age, height):\n",
    "    print(name, age, height, sep=\", \")\n",
    "    \n",
    "p = ('jang', 22, 180)\n",
    "show(*p)\n",
    "\n",
    "a = ['jang', 22, 180]\n",
    "show(*a)\n",
    "\n",
    "p = 'jang', (27, 173), '010-9089-0000', 'ddeock'\n",
    "na, (ag, he), ph, ad = p\n",
    "print(na, he)"
   ]
  },
  {
   "cell_type": "code",
   "execution_count": 11,
   "metadata": {},
   "outputs": [
    {
     "ename": "ValueError",
     "evalue": "too many values to unpack (expected 2)",
     "output_type": "error",
     "traceback": [
      "\u001b[0;31m---------------------------------------------------------------------------\u001b[0m",
      "\u001b[0;31mValueError\u001b[0m                                Traceback (most recent call last)",
      "Cell \u001b[0;32mIn[11], line 3\u001b[0m\n\u001b[1;32m      1\u001b[0m \u001b[38;5;66;03m# for 루프에서의 언패킹\u001b[39;00m\n\u001b[1;32m      2\u001b[0m ps \u001b[38;5;241m=\u001b[39m [(\u001b[38;5;124m'\u001b[39m\u001b[38;5;124mlee, 172\u001b[39m\u001b[38;5;124m'\u001b[39m), (\u001b[38;5;124m'\u001b[39m\u001b[38;5;124mddeock, 173\u001b[39m\u001b[38;5;124m'\u001b[39m)]\n\u001b[0;32m----> 3\u001b[0m \u001b[38;5;28;01mfor\u001b[39;00m n, h \u001b[38;5;129;01min\u001b[39;00m ps:\n\u001b[1;32m      4\u001b[0m     \u001b[38;5;28mprint\u001b[39m(n, h, sep\u001b[38;5;241m=\u001b[39m\u001b[38;5;124m'\u001b[39m\u001b[38;5;124m, \u001b[39m\u001b[38;5;124m'\u001b[39m)\n",
      "\u001b[0;31mValueError\u001b[0m: too many values to unpack (expected 2)"
     ]
    }
   ],
   "source": [
    "# for 루프에서의 언패킹\n",
    "ps = [('lee', 172), ('ddeock', 173)]\n",
    "for n, h in ps:\n",
    "    print(n, h, sep=', ')\n",
    "    \n"
   ]
  }
 ],
 "metadata": {
  "kernelspec": {
   "display_name": "Python 3",
   "language": "python",
   "name": "python3"
  },
  "language_info": {
   "codemirror_mode": {
    "name": "ipython",
    "version": 3
   },
   "file_extension": ".py",
   "mimetype": "text/x-python",
   "name": "python",
   "nbconvert_exporter": "python",
   "pygments_lexer": "ipython3",
   "version": "3.11.7"
  }
 },
 "nbformat": 4,
 "nbformat_minor": 2
}
