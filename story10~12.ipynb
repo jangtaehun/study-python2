{
 "cells": [
  {
   "cell_type": "markdown",
   "metadata": {},
   "source": [
    "##### 제네레이터 표현식"
   ]
  },
  {
   "cell_type": "code",
   "execution_count": 1,
   "metadata": {},
   "outputs": [
    {
     "name": "stdout",
     "output_type": "stream",
     "text": [
      "2 4 6 8 10 12 14 16 18 "
     ]
    }
   ],
   "source": [
    "def show(s):\n",
    "    for i in s:\n",
    "        print(i, end=' ')\n",
    "    \n",
    "g = (2 * i for i in range(1, 10))\n",
    "show(g)"
   ]
  },
  {
   "cell_type": "code",
   "execution_count": 2,
   "metadata": {},
   "outputs": [
    {
     "name": "stdout",
     "output_type": "stream",
     "text": [
      "2 4 6 8 10 12 14 16 18 "
     ]
    }
   ],
   "source": [
    "show((2*i for i in range(1, 10)))"
   ]
  },
  {
   "cell_type": "markdown",
   "metadata": {},
   "source": [
    "#### 튜플 패킹\n",
    "> - 튜플로 값을 묶는 행위\n",
    "\n",
    "#### 튜플 언패킹\n",
    "> - 튜플로 묶여 있는 값들을 풀어내는 행위\n",
    "\n",
    "#### 함수의 호출과 반환 과정에서도 일어난다.\n",
    "> - 튜플의 패킹에서 소괄호는 생략이 가능"
   ]
  },
  {
   "cell_type": "code",
   "execution_count": 3,
   "metadata": {},
   "outputs": [
    {
     "name": "stdout",
     "output_type": "stream",
     "text": [
      "12 25\n"
     ]
    }
   ],
   "source": [
    "tri_two = 23, 12\n",
    "\n",
    "tri_three = (12, 25)\n",
    "bt, ht = tri_three\n",
    "print(bt, ht)"
   ]
  },
  {
   "cell_type": "code",
   "execution_count": 5,
   "metadata": {},
   "outputs": [
    {
     "data": {
      "text/plain": [
       "(1, [3, 4, 5])"
      ]
     },
     "execution_count": 5,
     "metadata": {},
     "output_type": "execute_result"
    }
   ],
   "source": [
    "nums = (1, 2, 3, 4, 5)\n",
    "n1, n2, *others = nums\n",
    "n1, others"
   ]
  },
  {
   "cell_type": "code",
   "execution_count": 6,
   "metadata": {},
   "outputs": [
    {
     "data": {
      "text/plain": [
       "[2, 3, 4]"
      ]
     },
     "execution_count": 6,
     "metadata": {},
     "output_type": "execute_result"
    }
   ],
   "source": [
    "nums = (1, 2, 3, 4, 5)\n",
    "n1, *others, n2 = nums\n",
    "others"
   ]
  },
  {
   "cell_type": "code",
   "execution_count": 10,
   "metadata": {},
   "outputs": [
    {
     "name": "stdout",
     "output_type": "stream",
     "text": [
      "jang, 22, 180\n",
      "jang, 22, 180\n",
      "jang 173\n"
     ]
    }
   ],
   "source": [
    "def show(name, age, height):\n",
    "    print(name, age, height, sep=\", \")\n",
    "    \n",
    "p = ('jang', 22, 180)\n",
    "show(*p)\n",
    "\n",
    "a = ['jang', 22, 180]\n",
    "show(*a)\n",
    "\n",
    "p = 'jang', (27, 173), '010-9089-0000', 'ddeock'\n",
    "na, (ag, he), ph, ad = p\n",
    "print(na, he)"
   ]
  },
  {
   "cell_type": "code",
   "execution_count": 12,
   "metadata": {},
   "outputs": [
    {
     "name": "stdout",
     "output_type": "stream",
     "text": [
      "lee, 172\n",
      "ddeock, 173\n"
     ]
    }
   ],
   "source": [
    "# for 루프에서의 언패킹\n",
    "ps = [('lee', 172), ('ddeock', 173)]\n",
    "for n, h in ps:\n",
    "    print(n, h, sep=', ')\n",
    "    \n"
   ]
  },
  {
   "cell_type": "markdown",
   "metadata": {},
   "source": [
    "#### 네임드 튜플\n",
    "> - 정보를 튜플에 새겨 놓는다 -> 주석 대신에 정보 표시\n",
    "> - 클래스의 이름이 출력되어 오류가 발생한 원인 또는 위치를 찾는 데 도움을 준다."
   ]
  },
  {
   "cell_type": "code",
   "execution_count": 15,
   "metadata": {},
   "outputs": [
    {
     "name": "stdout",
     "output_type": "stream",
     "text": [
      "3 7\n",
      "3 7\n",
      "3 7\n",
      "3 7\n"
     ]
    }
   ],
   "source": [
    "from collections import namedtuple\n",
    "\n",
    "Tri = namedtuple(\"Triangle\", ['bottom', 'height'])\n",
    "t = Tri(3, 7)\n",
    "print(t[0], t[1])\n",
    "print(t.bottom, t.height) # 이름으로도 접근이 가능하다\n",
    "\n",
    "# 네임드 튜플을 대상으로도 언패킹 가능\n",
    "a, b = t # 언패킹\n",
    "print(a, b)\n",
    "\n",
    "def show(n1, n2):\n",
    "    print(n1, n2)\n",
    "show(*t)"
   ]
  }
 ],
 "metadata": {
  "kernelspec": {
   "display_name": "Python 3",
   "language": "python",
   "name": "python3"
  },
  "language_info": {
   "codemirror_mode": {
    "name": "ipython",
    "version": 3
   },
   "file_extension": ".py",
   "mimetype": "text/x-python",
   "name": "python",
   "nbconvert_exporter": "python",
   "pygments_lexer": "ipython3",
   "version": "3.11.7"
  }
 },
 "nbformat": 4,
 "nbformat_minor": 2
}
