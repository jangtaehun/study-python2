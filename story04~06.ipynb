{
 "cells": [
  {
   "cell_type": "code",
   "execution_count": 3,
   "metadata": {},
   "outputs": [
    {
     "data": {
      "text/plain": [
       "[3, 9, 15, 21, 27, 5, 15, 25, 35, 45, 7, 21, 35, 49, 63, 9, 27, 45, 63, 81]"
      ]
     },
     "execution_count": 3,
     "metadata": {},
     "output_type": "execute_result"
    }
   ],
   "source": [
    "# comprehension\n",
    "\n",
    "r1 = [1, 2, 3, 4, 5]\n",
    "r2 = [x * 2 for x in r1]\n",
    "\n",
    "t1 = [1, 2, 3, 4, 5, 6]\n",
    "t2 = [x * 2 for x in t1 if x % 2]\n",
    "# x in t1 -> t1의 값을 x에 넣는다.\n",
    "# x % 2가 True인지 확인\n",
    "# True이면 x * 2를 리스트에 추가\n",
    "\n",
    "s1 = ['black', 'white']\n",
    "s2 = ['red', 'blue', 'green']\n",
    "s3 = [i + x for i in s1 for x in s2]\n",
    "s3\n",
    "\n",
    "g = [i * x for i in range(2, 10) for x in range(1, 10) if (x * i) % 2]\n",
    "g"
   ]
  },
  {
   "cell_type": "markdown",
   "metadata": {},
   "source": [
    "##### iter 함수\n",
    "> - 값을 꺼내는 방법이 조금 더 유연한 방법\n",
    "> - iter라는 함수를 호출 => iter 함수는 객체를 생성해 반환 => 리스트에서 값을 꺼내는 기능을 제공하는 객체\n",
    "\n",
    "##### iterable 객체와 iterator 객체의 구분\n",
    "> - iter 함수가 반환하는 객체를 iterator 객체\n",
    "> - - ir = iter(ds) : iter함수 호출 -> iterator 객체를 생성해 반환\n",
    "> - - next(), ... \n",
    "\n",
    "> - iterator 객체를 얻을 수 있는 리스트와 같은 객체를 iterable 객체\n",
    "> - - list, tuple, string\n",
    "\n",
    "##### iterable 객체와 iterator 객체 모두 for 루프의 반복 대상이 될 수 있다.\n",
    "##### iterable 객체가 와야 하는 위치에는 iterator 객체가 올 수 있다."
   ]
  },
  {
   "cell_type": "code",
   "execution_count": 12,
   "metadata": {},
   "outputs": [
    {
     "name": "stdout",
     "output_type": "stream",
     "text": [
      "True\n",
      "4369537184\n",
      "4369537184\n"
     ]
    }
   ],
   "source": [
    "ds = [1, 2, 3, 4]\n",
    "ir = iter(ds) # iter함수 호출 -> iterator 객체를 생성해 반환\n",
    "\n",
    "next(ir)\n",
    "next(ir)\n",
    "next(ir)\n",
    "next(ir)\n",
    "\n",
    "# 마지막 값을 반환하면 StopIteratration 예외 발생\n",
    "# next(ir)\n",
    "\n",
    "ir = iter(ds) # 다시 iterator 객체 얻는다.\n",
    "\n",
    "hasattr([1, 2], '__iter__')\n",
    "\n",
    "ir1 = iter([1,2,3]) # 리스트의 iterator 객체를 얻음\n",
    "ir2 = iter(ir1) # iterator 객체를 전달하면서 다시 iterator 객체를 얻음\n",
    "\n",
    "print(ir1 is ir2) # ir1과 ir2가 참조하는 객체는 같은 객체\n",
    "\n",
    "print(id(ir1)) # ir1이 참조하는 객체의 위치 정보 확인\n",
    "print(id(ir2)) # ir2가 참조하는 객체의 위치 정보 확인"
   ]
  },
  {
   "cell_type": "markdown",
   "metadata": {},
   "source": [
    "##### 함수 = 객체\n",
    "> - 매개변수에 함수를 전달할 수 있다.\n",
    "> - 함수 내에 함수를 만들어서 반환할 수 있다.\n",
    "\n",
    "##### 람다 함수: 이름 없는 함수\n",
    "> - ref = lambda s: print(s)\n",
    " > - - s = 매개변수\n",
    " > - - lambda 매개변수: 함수\n",
    " > - - 매개변수가 없으면 비워두면 된다.\n"
   ]
  },
  {
   "cell_type": "code",
   "execution_count": 1,
   "metadata": {},
   "outputs": [
    {
     "name": "stdout",
     "output_type": "stream",
     "text": [
      "16\n",
      "64\n"
     ]
    }
   ],
   "source": [
    "def fct_fac(n):\n",
    "    return lambda x: x ** n\n",
    "\n",
    "f2 = fct_fac(2)\n",
    "f3 = fct_fac(3)\n",
    "\n",
    "print(f2(4))\n",
    "print(f3(4))"
   ]
  }
 ],
 "metadata": {
  "kernelspec": {
   "display_name": "Python 3",
   "language": "python",
   "name": "python3"
  },
  "language_info": {
   "codemirror_mode": {
    "name": "ipython",
    "version": 3
   },
   "file_extension": ".py",
   "mimetype": "text/x-python",
   "name": "python",
   "nbconvert_exporter": "python",
   "pygments_lexer": "ipython3",
   "version": "3.11.6"
  }
 },
 "nbformat": 4,
 "nbformat_minor": 2
}
