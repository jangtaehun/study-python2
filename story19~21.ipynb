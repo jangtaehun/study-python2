{
 "cells": [
  {
   "cell_type": "markdown",
   "metadata": {},
   "source": [
    "#### sort()\n",
    "> - 리스트 자체를 수정\n",
    "> - tuple은 없다.\n",
    "\n",
    "#### sorted()\n",
    "> - 사본\n",
    "> - tuple에 사용하면 list에 담아서 반환"
   ]
  },
  {
   "cell_type": "code",
   "execution_count": 7,
   "metadata": {},
   "outputs": [
    {
     "data": {
      "text/plain": [
       "[(9, 4), (2, 6), (3, 1)]"
      ]
     },
     "execution_count": 7,
     "metadata": {},
     "output_type": "execute_result"
    }
   ],
   "source": [
    "ns = [(\"jang\", 19), (\"tae\", 14), ('ddeock', 17)]\n",
    "\n",
    "def age(t):\n",
    "    return t[1]\n",
    "ns.sort(key=age)\n",
    "ns\n",
    "\n",
    "def name(t):\n",
    "    return t[0]\n",
    "ns.sort(key=name)\n",
    "ns\n",
    "\n",
    "names = [\"zzone\", \"ddeock\", \"kim\"]\n",
    "names.sort(key = len)\n",
    "names\n",
    "\n",
    "nums = [(3,1), (9,4), (2, 6)]\n",
    "nums.sort(key=lambda t : t[0]+t[1], reverse=True)\n",
    "nums"
   ]
  },
  {
   "cell_type": "code",
   "execution_count": 11,
   "metadata": {},
   "outputs": [
    {
     "data": {
      "text/plain": [
       "('197', '214', '321')"
      ]
     },
     "execution_count": 11,
     "metadata": {},
     "output_type": "execute_result"
    }
   ],
   "source": [
    "nums = [(3,1), (9,4), (2, 6)]\n",
    "cpy = sorted(nums, key=lambda t : t[0]+t[1], reverse=True)\n",
    "nums, cpy\n",
    "\n",
    "org = ('321', '214', '197')\n",
    "cpy = tuple(sorted(org, key = lambda t : int(t[0])))\n",
    "cpy"
   ]
  },
  {
   "cell_type": "code",
   "execution_count": 12,
   "metadata": {},
   "outputs": [
    {
     "data": {
      "text/plain": [
       "{1: '김루루', 2: '김쫀떡', 3: '전쵸비', 4: '홍햇살'}"
      ]
     },
     "execution_count": 12,
     "metadata": {},
     "output_type": "execute_result"
    }
   ],
   "source": [
    "names = [\"김쫀떡\", \"김루루\", \"홍햇살\", \"전쵸비\"]\n",
    "names.sort()\n",
    "dnames = {}\n",
    "i = 1\n",
    "for n in names:\n",
    "    dnames[i] = n\n",
    "    i += 1\n",
    "    \n",
    "dnames"
   ]
  },
  {
   "cell_type": "code",
   "execution_count": 15,
   "metadata": {},
   "outputs": [
    {
     "name": "stdout",
     "output_type": "stream",
     "text": [
      "(5, '김쫀떡')\n",
      "(6, '김루루')\n",
      "(7, '홍햇살')\n",
      "(8, '전쵸비')\n"
     ]
    },
    {
     "data": {
      "text/plain": [
       "{1: '김루루', 2: '김쫀떡', 3: '전쵸비', 4: '홍햇살'}"
      ]
     },
     "execution_count": 15,
     "metadata": {},
     "output_type": "execute_result"
    }
   ],
   "source": [
    "names = [\"김쫀떡\", \"김루루\", \"홍햇살\", \"전쵸비\"]\n",
    "eo = enumerate(names ,5)\n",
    "for n in eo:\n",
    "    print(n)\n",
    "    \n",
    "    \n",
    "dnames = {k: v for k, v in enumerate(sorted(names), 1)}\n",
    "dnames"
   ]
  },
  {
   "cell_type": "markdown",
   "metadata": {},
   "source": [
    "#### 표현식\n",
    "> - '_ %s_%s__' % (value, value)\n",
    "> - 타입 지시자 = 서식 지시자 = conversion specifier\n",
    "> - - %s: 문자열\n",
    "> - - %d: 정수\n",
    "> - - $f: 실수 -> %[flags][width][.precision]f\n",
    "\n",
    "#### 메소드 호출\n",
    "> - '_ {}_{}__'.format(value, value)"
   ]
  },
  {
   "cell_type": "code",
   "execution_count": 18,
   "metadata": {},
   "outputs": [
    {
     "name": "stdout",
     "output_type": "stream",
     "text": [
      "My friends Jung is 22 years old\n",
      "My friends Hong is 23 years old\n",
      "My friends Park is 24 years old\n"
     ]
    },
    {
     "data": {
      "text/plain": [
       "'My name is ddeock, age 5, height 5.300000'"
      ]
     },
     "execution_count": 18,
     "metadata": {},
     "output_type": "execute_result"
    }
   ],
   "source": [
    "friends = [('Jung', 22), ('Hong', 23), ('Park', 24)]\n",
    "for i in friends:\n",
    "    print('My friends', i[0], 'is', i[1], 'years old')\n",
    "    \n",
    "s = 'My name is %s' % 'ddeock'\n",
    "s\n",
    "\n",
    "s = 'My name is %s, age %d, height %f' % ('ddeock', 5, 5.3)\n",
    "s"
   ]
  },
  {
   "cell_type": "code",
   "execution_count": 24,
   "metadata": {},
   "outputs": [
    {
     "data": {
      "text/plain": [
       "'height:    3.14'"
      ]
     },
     "execution_count": 24,
     "metadata": {},
     "output_type": "execute_result"
    }
   ],
   "source": [
    "s = \"%(name)s : %(age)d\" % {'name': 'ddoeck', 'age': 5}\n",
    "s\n",
    "\n",
    "s = 'height: %.2f' % 3.14\n",
    "s\n",
    "\n",
    "s = 'height: %.6f' % 3.14\n",
    "s\n",
    "\n",
    "s = 'height: %07.2f' % 3.14\n",
    "s\n",
    "\n",
    "s = 'height: %-7.2f' % 3.14\n",
    "s\n"
   ]
  },
  {
   "cell_type": "code",
   "execution_count": 25,
   "metadata": {},
   "outputs": [
    {
     "data": {
      "text/plain": [
       "'height: +3.140    '"
      ]
     },
     "execution_count": 25,
     "metadata": {},
     "output_type": "execute_result"
    }
   ],
   "source": [
    "# 소수점 이하 셋째 자리까지 출력\n",
    "# 10칸 확보\n",
    "# 왼쪽으로 정렬\n",
    "# 부호 정보 함께 출력(0보다 크면 + 붙여서)\n",
    "s = 'height: %-+10.3f' % 3.14\n",
    "s"
   ]
  }
 ],
 "metadata": {
  "kernelspec": {
   "display_name": "Python 3",
   "language": "python",
   "name": "python3"
  },
  "language_info": {
   "codemirror_mode": {
    "name": "ipython",
    "version": 3
   },
   "file_extension": ".py",
   "mimetype": "text/x-python",
   "name": "python",
   "nbconvert_exporter": "python",
   "pygments_lexer": "ipython3",
   "version": "3.11.7"
  }
 },
 "nbformat": 4,
 "nbformat_minor": 2
}
