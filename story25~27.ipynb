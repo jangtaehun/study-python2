{
 "cells": [
  {
   "cell_type": "markdown",
   "metadata": {},
   "source": [
    "##### isinstance 객체의 클래스 유형을 확인하는 함수\n",
    "> - isinstance(s, Simple) -> s가 Simple 클래스의 객체인가?\n",
    "> - 간접 상속도 상속이다\n",
    "\n",
    "##### object 함수\n",
    "> - 파이썬의 모든 클래스는 상속을 명시하지 않아도 object 클래스를 직접 혹은 간접 상속한다.\n",
    "> - isinstance(Simple(), object)\n",
    "> - class A:\n",
    "> -     pass => 아무것도 상속하지 않으므로 object 클래스 상속\n",
    "\n",
    "> - class Z(A):\n",
    "> -     pass => Z는 A를 상속하므로 Z는 object 클래스를 간접 상속한다."
   ]
  },
  {
   "cell_type": "markdown",
   "metadata": {},
   "source": [
    "##### __ __ 형태를 가지고 파이썬에 의해 호출되는 (프로그래머가 직접 명시하여 호출하지 않는) 메소드를 스페셜 메소드\n",
    "\n",
    "##### iterable 객체가 되게끔 하기\n",
    "> - iterator 객체를 얻을 수 있는 리스트와 같은 객체를 iterable 객체, iter 함수에 인자로 전달 가능한 객체\n",
    "> - - list, tuple, string\n",
    "\n",
    "> - iterable 객체의 조건 = 스페셜 메소드인 __iter__가 존재\n",
    "> - iterator 객체의 조건 = 스페셜 메소드인 __next__가 존재"
   ]
  },
  {
   "cell_type": "code",
   "execution_count": 12,
   "metadata": {},
   "outputs": [
    {
     "name": "stdout",
     "output_type": "stream",
     "text": [
      "호출됨\n",
      "1 2 3 4 5 호출됨\n",
      "1 2 3 4 5 "
     ]
    }
   ],
   "source": [
    "class Coll2:\n",
    "    def __init__(self, d):\n",
    "        self.ds = d\n",
    "    def __next__(self):\n",
    "        if len(self.ds) <= self.cc:\n",
    "            raise StopIteration\n",
    "        self.cc += 1\n",
    "        return  self.ds[self.cc - 1]\n",
    "    \n",
    "    def __iter__(self):\n",
    "        self.cc = 0\n",
    "        print(\"호출됨\")\n",
    "        return self\n",
    "    \n",
    "def main():\n",
    "    co = Coll2([1,2,3,4,5])\n",
    "    for i in co:\n",
    "        print(i, end=' ')\n",
    "    for i in co:\n",
    "        print(i, end=' ')\n",
    "        \n",
    "main()"
   ]
  },
  {
   "cell_type": "markdown",
   "metadata": {},
   "source": [
    "#### 연산자 오버로딩\n",
    "> - acnt + 100 => acnt.__add__(100)\n",
    "> - acnt - 50 => acnt.__sub__(50)"
   ]
  },
  {
   "cell_type": "code",
   "execution_count": 13,
   "metadata": {},
   "outputs": [
    {
     "name": "stdout",
     "output_type": "stream",
     "text": [
      "Janes01, 200\n",
      "Janes01, 150\n"
     ]
    }
   ],
   "source": [
    "class Account:\n",
    "    def __init__(self, aid, abl):\n",
    "        self.aid = aid\n",
    "        self.abl = abl\n",
    "        \n",
    "    def __iadd__(self, m): # += 연산에 대한 오버로딩\n",
    "        self.abl += m\n",
    "        return self # v1 = v1.__iadd__(v2) 이기 때문에 반드시 self를 반환해야 한다\n",
    "    \n",
    "    def __isub__(self, m): # -= 연산에 대한 오버로딩\n",
    "        self.abl -= m\n",
    "        return self # v1 = v1.__isub__(v2) 이기 때문에 반드시 self를 반환해야 한다\n",
    "    \n",
    "    def __str__(self): # 계좌 상황을 문자열로 반환\n",
    "        return '{0}, {1}'.format(self.aid, self.abl)\n",
    "    \n",
    "    \n",
    "def main():\n",
    "    acnt = Account('Janes01', 100)\n",
    "    \n",
    "    acnt += 100\n",
    "    print(acnt)\n",
    "    \n",
    "    acnt -= 50\n",
    "    print(acnt)\n",
    "    \n",
    "main()"
   ]
  },
  {
   "cell_type": "code",
   "execution_count": null,
   "metadata": {},
   "outputs": [],
   "source": []
  }
 ],
 "metadata": {
  "kernelspec": {
   "display_name": "Python 3",
   "language": "python",
   "name": "python3"
  },
  "language_info": {
   "codemirror_mode": {
    "name": "ipython",
    "version": 3
   },
   "file_extension": ".py",
   "mimetype": "text/x-python",
   "name": "python",
   "nbconvert_exporter": "python",
   "pygments_lexer": "ipython3",
   "version": "3.11.6"
  }
 },
 "nbformat": 4,
 "nbformat_minor": 2
}
