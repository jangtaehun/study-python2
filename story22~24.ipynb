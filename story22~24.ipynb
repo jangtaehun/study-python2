{
 "cells": [
  {
   "cell_type": "code",
   "execution_count": 16,
   "metadata": {},
   "outputs": [
    {
     "name": "stdout",
     "output_type": "stream",
     "text": [
      "king...zzone...ddeock\n",
      "b...o...24...36\n",
      "\n",
      "3.140000\n",
      "   3.1400\n",
      "3.1400    \n",
      "    3.1400\n",
      "  3.1400  \n",
      "\n",
      "+5, -5\n",
      "\n",
      "**3.1400**\n",
      "7+++++++++\n"
     ]
    }
   ],
   "source": [
    "# 메소드 기반 문자열 조합\n",
    "fs = '{0}...{1}...{2}'\n",
    "ms = fs.format('robot', 124, 'box')\n",
    "ms\n",
    "# 순서대로 할 때 전달 인자 순서는 생략해도 된다.\n",
    "\n",
    "dd = '{ddeock}...{zzone}'.format(ddeock='king', zzone='ruru')\n",
    "dd\n",
    "\n",
    "# 언패킹\n",
    "my = ['king', 'zzone', 'ddeock']\n",
    "print('{0}...{1}...{2}'.format(*my))\n",
    "\n",
    "my = ['box', (24, 36)]\n",
    "print('{0[0]}...{0[1]}...{1[0]}...{1[1]}'.format(*my))\n",
    "print()\n",
    "\n",
    "print('{0:f}'.format(3.14)) # 실수\n",
    "print('{0:9.4f}'.format(3.14)) # 9칸 확보하고 소수점 이하 4자리\n",
    "'{0:d}'.format(3) # 정수\n",
    "\n",
    "print('{0:<10.4f}'.format(3.14)) # <왼쪽으로 붙여라\n",
    "print('{0:>10.4f}'.format(3.14)) # <오른쪽으로 붙여라\n",
    "print('{0:^10.4f}'.format(3.14)) # <중앙으로 붙여라\n",
    "print()\n",
    "\n",
    "print('%+d, %+d' % (5, -5)) # 부호 출력\n",
    "print()\n",
    "\n",
    "print('{0:*^10.4f}'.format(3.14)) # 빈 공간을 *로 채운다\n",
    "print('{0:+<10}'.format(7)) # 왼쪽으로 밀고 남은 공간을 +로 채운다"
   ]
  },
  {
   "cell_type": "markdown",
   "metadata": {},
   "source": [
    "#### 클레스: 객체를 만들기 위한 일종의 설계도\n",
    "#### 객체: 클래스를 기반으로 만들어진 실제 사물\n",
    "\n",
    "#### 파이썬은 독특한 점이 있다.\n",
    "> - 객체에 필요한 변수를 알아서 생성해준다. => 변수가 생성되는 정확한 시점 = 객체 내에서 해당 변수를 대상으로 대입 연산을 처음 진행하는 순간\n",
    "> - 객체 생성 시 자동으로 호출되는 __init__ 메소드를 정의하면, 객체 내에서 필요한 모든 변수를 초기화 해주면 오류가 안 뜬다.\n",
    "\n",
    "#### 파이썬 객체에는 변수와 메소드를 붙이기도 하고 떼기도 할 수 있다.\n",
    "\n",
    "#### 클레스에도 변수를 추가할 수 있다. -> 파이썬의 클래스는 클래스이자 객체이다.\n",
    "> - 클래스에 속하는 변수를 만들 수 있다.\n",
    "> - 객체에 찾는 변수가 없으면 해당 객체의 클래스로 찾아가서 변수를 찾는다."
   ]
  },
  {
   "cell_type": "code",
   "execution_count": 17,
   "metadata": {},
   "outputs": [
    {
     "data": {
      "text/plain": [
       "200"
      ]
     },
     "execution_count": 17,
     "metadata": {},
     "output_type": "execute_result"
    }
   ],
   "source": [
    "class Simple:\n",
    "    def d(self, i):\n",
    "        self.i = i\n",
    "    def s(self):\n",
    "        return self.i\n",
    "    \n",
    "s1 = Simple()\n",
    "s1.d(200) # 이 메소드의 실행 과정에서 객체 내에 변수 i가 만들어진다.\n",
    "s1.s()\n",
    "# s1 = Simple()\n",
    "# s1.s() 오류\n"
   ]
  },
  {
   "cell_type": "code",
   "execution_count": 20,
   "metadata": {},
   "outputs": [
    {
     "name": "stdout",
     "output_type": "stream",
     "text": [
      "hi\n"
     ]
    },
    {
     "data": {
      "text/plain": [
       "7"
      ]
     },
     "execution_count": 20,
     "metadata": {},
     "output_type": "execute_result"
    }
   ],
   "source": [
    "class SOSimple:\n",
    "    def ddeock(self):\n",
    "        return self.i\n",
    "    \n",
    "ss = SOSimple()\n",
    "ss.i = 27\n",
    "ss.ddeock()\n",
    "\n",
    "\n",
    "ss.hello = lambda : print('hi') # hello라는 메소드를 추가\n",
    "ss.hello()\n",
    "\n",
    "del ss.i\n",
    "del ss.hello\n",
    "\n",
    "ss.n = 7\n",
    "ss.n"
   ]
  },
  {
   "cell_type": "markdown",
   "metadata": {},
   "source": [
    "#### 상속\n",
    "> - 부모 클래스의 메소드를 자식 클래스가 호출할 수 있다.\n",
    "> - 부모 클래스가 갖는 메소드와 동일한 이름의 메소드를 자식 클래스가 정의하는 경우 = 메소드 오버라이딩\n",
    "> - super => 부모의 class를 참조\n",
    "> - - super().__init__(~): 부모 클래스의 init(생성자) 메서드를 호출\n",
    "> - - 자식 클래스의 __init__ 메소드 내에서 부모 클래스의 __init__ 메소드를 호출해야 부모의 변수를 초기화할 수 있다.\n"
   ]
  }
 ],
 "metadata": {
  "kernelspec": {
   "display_name": "Python 3",
   "language": "python",
   "name": "python3"
  },
  "language_info": {
   "codemirror_mode": {
    "name": "ipython",
    "version": 3
   },
   "file_extension": ".py",
   "mimetype": "text/x-python",
   "name": "python",
   "nbconvert_exporter": "python",
   "pygments_lexer": "ipython3",
   "version": "3.11.6"
  }
 },
 "nbformat": 4,
 "nbformat_minor": 2
}
