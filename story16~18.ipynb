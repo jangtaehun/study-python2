{
 "cells": [
  {
   "cell_type": "markdown",
   "metadata": {},
   "source": [
    "#### dict, defaultdict\n",
    "\n",
    "> - 키가 존재하지 않으면 예외가 발생한다.\n",
    "> - 키가 존재할 때 존재하지 않을 때의 상황 별 실행 코드를 구분할 필요가 있다."
   ]
  },
  {
   "cell_type": "code",
   "execution_count": 1,
   "metadata": {},
   "outputs": [
    {
     "data": {
      "text/plain": [
       "{'r': 1, 'o': 2, 'b': 2, 't': 1}"
      ]
     },
     "execution_count": 1,
     "metadata": {},
     "output_type": "execute_result"
    }
   ],
   "source": [
    "s = 'robbot'\n",
    "d = {}\n",
    "for k in s:\n",
    "    if k in d:\n",
    "        d[k] += 1\n",
    "    else:\n",
    "        d[k] = 1\n",
    "d"
   ]
  },
  {
   "cell_type": "code",
   "execution_count": 5,
   "metadata": {},
   "outputs": [
    {
     "data": {
      "text/plain": [
       "defaultdict(<function __main__.<lambda>()>, {'z': 7})"
      ]
     },
     "execution_count": 5,
     "metadata": {},
     "output_type": "execute_result"
    }
   ],
   "source": [
    "# setdefault\n",
    "s = 'robbot'\n",
    "d = {}\n",
    "for k in s:\n",
    "    d[k] = d.setdefault(k, 0) + 1\n",
    "d\n",
    "# default 메소드 호출 -> k에 해당하는 키가 없다면 해당 키와 함께 값이 0으로 저장된다\n",
    "\n",
    "# defaultdict\n",
    "from collections import defaultdict\n",
    "a = 'robbot'\n",
    "b = defaultdict(int) #int 함수를 등록하면서 defaultdict 호출\n",
    "for k in s:\n",
    "    b[k] += 1\n",
    "b\n",
    "\n",
    "n1 = int('2') # 문자열을 정수로 변환\n",
    "n2 = int() # 값을 전달하지 않으면 0 반환\n",
    "\n",
    "def ret_zero():\n",
    "    return 0 \n",
    "d = defaultdict(ret_zero)\n",
    "d['a']\n",
    "d\n",
    "\n",
    "# lambda x: x ** n\n",
    "d = defaultdict(lambda: 7)\n",
    "d['z']\n",
    "d"
   ]
  },
  {
   "cell_type": "code",
   "execution_count": 12,
   "metadata": {},
   "outputs": [
    {
     "name": "stdout",
     "output_type": "stream",
     "text": [
      "('a', 1) ('b', 2) ('c', 3) \n",
      "\n",
      "('a', 1) ('c', 3) ('b', 2) \n",
      "\n",
      "('b', 2) ('a', 1) ('c', 3) "
     ]
    }
   ],
   "source": [
    "# dict & ordereddict\n",
    "# dict는 저장 순서를 유지\n",
    "# OrderedDict() => 현재는 사용할 필요가 없다. 하지만 사용해야 하는 상황이 있다.\n",
    "# - dict는 저장된 내용물만 동일하면 == 연산이 True\n",
    "# - 저장 순서가 하나의 정보로써 의미를 갖는다면 , 저장 순서를 바꿔야할 가능성도 존재한다면 OrderedDict 사용\n",
    "\n",
    "from collections import OrderedDict\n",
    "\n",
    "od = OrderedDict()\n",
    "od['a'] = 1\n",
    "od['b'] = 2\n",
    "od['c'] = 3\n",
    "od\n",
    "\n",
    "od1 = OrderedDict(a = 1, b = 2, c = 3)\n",
    "od2 = OrderedDict(c = 3, a = 1, b = 2)\n",
    "od1 == od2\n",
    "\n",
    "od = OrderedDict(a = 1, b = 2, c = 3)\n",
    "for kv in od.items():\n",
    "    print(kv, end=' ')\n",
    "print('\\n')\n",
    "\n",
    "od.move_to_end('b')\n",
    "for kv in od.items():\n",
    "    print(kv, end= ' ')\n",
    "print('\\n')    \n",
    "\n",
    "od.move_to_end('b', last=False)\n",
    "for kv in od.items():\n",
    "    print(kv, end=' ')"
   ]
  },
  {
   "cell_type": "markdown",
   "metadata": {},
   "source": [
    "#### 자료형 분류와 set & frozenset\n",
    "\n",
    "##### 시퀀스 타입 - 저장된 값의 순서 정보가 존재하는 것\n",
    "> - 리스트: list 클레스의 객체\n",
    "> - 튜플: tuple 클레스의 객체\n",
    "> - 레인지: range 클레스의 객체\n",
    "> - 문자열 :str 클레스의 객체\n",
    "> - - 인덱싱 연산, 슬라이싱 연산 가능\n",
    "\n",
    "##### 매핑 타입 - 저장된 값의 순서 또는 위치 정보를 기록하지 않는 자료형\n",
    "> - 딕셔너리: dict 클레스의 객체\n",
    "\n",
    "##### 셋 타입\n",
    "> - 셋: set 클래스의 객체, mutable / 새로운 값 추가 삭제 가능\n",
    "> - 프로즌셋: frozenset 클래스의 객체 immutable / 새로운 값 추가 삭제 불가능\n",
    "> - - 셋 타입: 집합 -> 저장 순서를 유지하지 않는다. 중복된 값을 허용하지 않는다.\n",
    "\n",
    "> - 합집합: |\n",
    "> - 차집합: -\n",
    "> - 교집합 &\n",
    "> - 대칭 차집합: 두 집합의 합집합에서 교집합을 뺀 집합 ^\n",
    "\n",
    "> - - 리스트 중복 제거 -> list( set() )"
   ]
  },
  {
   "cell_type": "code",
   "execution_count": 19,
   "metadata": {},
   "outputs": [
    {
     "name": "stdout",
     "output_type": "stream",
     "text": [
      "{1, 2, 3, 4, 5, 6, 7, 8, 9, 10}\n",
      "{64, 1, 4, 36, 100, 9, 16, 49, 81, 25}\n"
     ]
    },
    {
     "data": {
      "text/plain": [
       "{1, 4, 9, 16, 25, 36, 49}"
      ]
     },
     "execution_count": 19,
     "metadata": {},
     "output_type": "execute_result"
    }
   ],
   "source": [
    "# set 컴프리헨션\n",
    "\n",
    "s1 = {x for x in range(1, 11)}\n",
    "print(s1)\n",
    "\n",
    "s2 = {x**2 for x in s1}\n",
    "print(s2)\n",
    "\n",
    "s3 = {x for x in s2 if x<50}\n",
    "s3"
   ]
  }
 ],
 "metadata": {
  "kernelspec": {
   "display_name": "Python 3",
   "language": "python",
   "name": "python3"
  },
  "language_info": {
   "codemirror_mode": {
    "name": "ipython",
    "version": 3
   },
   "file_extension": ".py",
   "mimetype": "text/x-python",
   "name": "python",
   "nbconvert_exporter": "python",
   "pygments_lexer": "ipython3",
   "version": "3.11.7"
  }
 },
 "nbformat": 4,
 "nbformat_minor": 2
}
