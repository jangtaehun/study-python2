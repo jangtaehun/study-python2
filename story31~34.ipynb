{
 "cells": [
  {
   "cell_type": "markdown",
   "metadata": {},
   "source": [
    "##### 클로저(closure)\n",
    "> - 안쪽에 위치한 네스티드 함수가 자신이 필요한 변수의 값을 어딘가에 저장해 놓고 쓰는 테크닉\n",
    "> - 함수 객체 안에 저장해 둔다."
   ]
  },
  {
   "cell_type": "markdown",
   "metadata": {},
   "source": [
    "##### 데코레이터\n",
    "> - 꾸며주는 역할을 하는 함수 또는 클레스"
   ]
  },
  {
   "cell_type": "markdown",
   "metadata": {},
   "source": [
    "##### static 메소드\n",
    "> - 클래스 내부에 만들어진 메소드를 호출하기 위해서는 객체가 있어야 한다.\n",
    "> - statc 메소드를 이요하면 클래스 이름을 통해서 호출이 가능하다. = 객체가 없는 상태에서 호출이 가능하다.\n",
    "\n",
    "##### class 메소드\n",
    "> - 매개변수로 cls : 이름이 달라도 된다.\n",
    "> - cls에는 클래스가 전달된다.\n",
    "\n",
    "> - 새로운 객체를 생성 및 반환하는 메소드 = 팩토리 메소드를 만드는데 적합"
   ]
  },
  {
   "cell_type": "code",
   "execution_count": 1,
   "metadata": {},
   "outputs": [],
   "source": [
    "class Simple:\n",
    "    count = 0\n",
    "    def __init__(self):\n",
    "        Simple.count += 1\n",
    "    @classmethod\n",
    "    def get_count(cls):\n",
    "        return cls.count # Simple.count"
   ]
  },
  {
   "cell_type": "code",
   "execution_count": 6,
   "metadata": {},
   "outputs": [
    {
     "name": "stdout",
     "output_type": "stream",
     "text": [
      "KOR: 2025, 4, 12\n",
      "KOR: 2025, 4, 13\n"
     ]
    }
   ],
   "source": [
    "class Date:\n",
    "    def __init__(self, y, m, d):\n",
    "        self.y = y\n",
    "        self.m = m\n",
    "        self.d = d\n",
    "        \n",
    "    def show(self):\n",
    "        print('{0}, {1}, {2}'.format(self.y, self.m, self.d))\n",
    "            \n",
    "    @classmethod\n",
    "    def next_day(cls, today):\n",
    "        return cls(today.y, today.m, today.d + 1)\n",
    "        \n",
    "class Kdate(Date):\n",
    "    def show(self):\n",
    "        print('KOR: {0}, {1}, {2}'.format(self.y, self.m, self.d))\n",
    "        \n",
    "class Jdate(Date):\n",
    "    def show(self):\n",
    "        print('JPN: {0}, {1}, {2}'.format(self.y, self.m, self.d))\n",
    "        \n",
    "def main():\n",
    "    kd1 = Kdate(2025, 4, 12)\n",
    "    kd1.show()\n",
    "    kd2 = Kdate.next_day(kd1)\n",
    "    kd2.show()\n",
    "    \n",
    "main()"
   ]
  },
  {
   "cell_type": "markdown",
   "metadata": {},
   "source": [
    "실행이 시작되는 스크립트 파일의 __name__에는 문자열 '__main'을 채운다.\n",
    "\n",
    "import 되는 스크립트 파일의 __name__에는 파일 이름을 문자열로 채운다."
   ]
  },
  {
   "cell_type": "code",
   "execution_count": 7,
   "metadata": {},
   "outputs": [
    {
     "name": "stdout",
     "output_type": "stream",
     "text": [
      "ddeock\n"
     ]
    }
   ],
   "source": [
    "if __name__ == '__main__':\n",
    "    def main():\n",
    "        print('ddeock')\n",
    "    main()\n",
    "\n",
    "# 이 적혀있는 파일을 import 해도 실행되지 않는다."
   ]
  }
 ],
 "metadata": {
  "kernelspec": {
   "display_name": "Python 3",
   "language": "python",
   "name": "python3"
  },
  "language_info": {
   "codemirror_mode": {
    "name": "ipython",
    "version": 3
   },
   "file_extension": ".py",
   "mimetype": "text/x-python",
   "name": "python",
   "nbconvert_exporter": "python",
   "pygments_lexer": "ipython3",
   "version": "3.11.6"
  }
 },
 "nbformat": 4,
 "nbformat_minor": 2
}
